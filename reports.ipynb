{
 "cells": [
  {
   "cell_type": "code",
   "execution_count": 1,
   "id": "a1389b7d-e3ad-444e-9997-8d1e1730ac83",
   "metadata": {},
   "outputs": [
    {
     "name": "stdout",
     "output_type": "stream",
     "text": [
      "Report for temperature saved to report-temperature.html\n",
      "Report for precipitation saved to report-precipitation.html\n",
      "Report for wind saved to report-wind.html\n"
     ]
    }
   ],
   "source": [
    "from pyzotero import zotero\n",
    "\n",
    "def get_top_level_items(zot, collection_key):\n",
    "    items = zot.collection_items(collection_key)\n",
    "    top_level_items = [item for item in items if 'parentItem' not in item['data']]\n",
    "    return top_level_items\n",
    "\n",
    "def get_notes(zot, collection_key):\n",
    "    items = zot.collection_items(collection_key)\n",
    "    notes = [item for item in items if item['data']['itemType'] == 'note' and 'parentItem' in item['data']]\n",
    "    return notes\n",
    "\n",
    "def extract_tags_and_notes(zot, item, notes_data):\n",
    "    item_data = item['data']\n",
    "    title = item_data.get('title', 'N/A')\n",
    "    creators = item['data'].get('creators', [])\n",
    "    if 'creatorSummary' in item['meta']:\n",
    "        first_author = item['meta']['creatorSummary']\n",
    "    else:\n",
    "        first_author = ''\n",
    "        for creator in creators:\n",
    "            if creator.get('name'):\n",
    "                first_author = creator['name'].split(',')[0]\n",
    "                break\n",
    "            elif creator.get('lastName'):\n",
    "                first_author = creator['lastName']\n",
    "                break\n",
    "    year = item_data.get('date', 'N/A')\n",
    "    year = year.split('-')[0] if '-' in year else year\n",
    "    tags = [tag['tag'] for tag in item_data.get('tags', []) if tag['tag'].startswith(\"#\")]\n",
    "    notes = []\n",
    "    for note_data in notes_data:\n",
    "        # Check if the note corresponds to the current top-level item\n",
    "        if note_data['data']['parentItem'] == item_data['key']:\n",
    "            notes.append(('Literal messages', note_data['data']['note']))\n",
    "    return {'Title': title, 'First Author': first_author, 'Year': year, 'Tags': tags, 'Notes': notes}\n",
    "\n",
    "def generate_html_table(report_data, collection):\n",
    "    html_table = f\"\"\"<html>\n",
    "<head>\n",
    "<style> \n",
    "  table, th, td {{font-size:10pt; border:1px solid black; border-collapse:collapse; text-align:left;}}\n",
    "  th, td {{padding: 5px; vertical-align: top;}}\n",
    "</style>\n",
    "</head>\n",
    "<body>\n",
    "<h2>CLIVAR 2024. Chapter 5 references ({collection})</h2>\n",
    "<table>\"\"\"\n",
    "    for item_data in report_data:\n",
    "        # Multicolumn entry for author, year, and title\n",
    "        html_table += (\n",
    "            f\"<tr><td colspan='2' style='border-left: 1px solid white; border-right: 1px solid white; padding-top: 15px;'><b>{item_data['First Author']} ({item_data['Year']})</b> {item_data['Title']}</td></tr>\"\n",
    "        )\n",
    "        # Tags row\n",
    "        html_table += f\"<tr><td>Tags</td><td>{', '.join(item_data['Tags'])}</td></tr>\"\n",
    "        # Notes rows\n",
    "        for note_type, note_content in item_data['Notes']:\n",
    "            html_table += f\"<tr><td>{note_type}</td><td>{note_content}</td></tr>\"\n",
    "\n",
    "    html_table += \"</table></body></html>\"\n",
    "    return html_table\n",
    "\n",
    "group_id = '5149914'\n",
    "api_key = 'ca9nfF3QebWRnCOu2yx39luQ'\n",
    "collections = {\n",
    "    'temperature' : 'T7N74W2T',\n",
    "    'precipitation' : 'B4JY8RHB',\n",
    "    'wind' : 'YAAWRDMV',\n",
    "}    \n",
    "\n",
    "zot = zotero.Zotero(group_id, 'group', api_key)\n",
    "\n",
    "for collection_name, collection_key in collections.items():\n",
    "    top_level_items = get_top_level_items(zot, collection_key)\n",
    "    notes = get_notes(zot, collection_key)\n",
    "    report_data = [extract_tags_and_notes(zot, item, notes) for item in top_level_items]\n",
    "    report_data = sorted(report_data, key=lambda x: (x['First Author'].lower(), x['Year']))\n",
    "    html_table = generate_html_table(report_data, collection_name)\n",
    "    report_filename = f'report-{collection_name}.html'\n",
    "    with open(report_filename, 'w') as html_file:\n",
    "        html_file.write(html_table)\n",
    "\n",
    "    print(f\"Report for {collection_name} saved to {report_filename}\")"
   ]
  },
  {
   "cell_type": "code",
   "execution_count": 5,
   "id": "fe48cf67-6da1-4062-b711-e064ae641174",
   "metadata": {},
   "outputs": [
    {
     "ename": "TypeError",
     "evalue": "collections() takes 1 positional argument but 2 were given",
     "output_type": "error",
     "traceback": [
      "\u001b[0;31m---------------------------------------------------------------------------\u001b[0m",
      "\u001b[0;31mTypeError\u001b[0m                                 Traceback (most recent call last)",
      "Input \u001b[0;32mIn [5]\u001b[0m, in \u001b[0;36m<cell line: 1>\u001b[0;34m()\u001b[0m\n\u001b[0;32m----> 1\u001b[0m \u001b[43mzot\u001b[49m\u001b[38;5;241;43m.\u001b[39;49m\u001b[43mcollections\u001b[49m\u001b[43m(\u001b[49m\u001b[43mcollection_key\u001b[49m\u001b[43m)\u001b[49m\n",
      "File \u001b[0;32m~/usr/mambaforge/envs/pyclimenv/lib/python3.9/site-packages/pyzotero/zotero.py:179\u001b[0m, in \u001b[0;36mretrieve.<locals>.wrapped_f\u001b[0;34m(self, *args, **kwargs)\u001b[0m\n\u001b[1;32m    177\u001b[0m \u001b[38;5;28;01mif\u001b[39;00m kwargs:\n\u001b[1;32m    178\u001b[0m     \u001b[38;5;28mself\u001b[39m\u001b[38;5;241m.\u001b[39madd_parameters(\u001b[38;5;241m*\u001b[39m\u001b[38;5;241m*\u001b[39mkwargs)\n\u001b[0;32m--> 179\u001b[0m retrieved \u001b[38;5;241m=\u001b[39m \u001b[38;5;28mself\u001b[39m\u001b[38;5;241m.\u001b[39m_retrieve_data(\u001b[43mfunc\u001b[49m\u001b[43m(\u001b[49m\u001b[38;5;28;43mself\u001b[39;49m\u001b[43m,\u001b[49m\u001b[43m \u001b[49m\u001b[38;5;241;43m*\u001b[39;49m\u001b[43margs\u001b[49m\u001b[43m)\u001b[49m)\n\u001b[1;32m    180\u001b[0m \u001b[38;5;66;03m# we now always have links in the header response\u001b[39;00m\n\u001b[1;32m    181\u001b[0m \u001b[38;5;28mself\u001b[39m\u001b[38;5;241m.\u001b[39mlinks \u001b[38;5;241m=\u001b[39m \u001b[38;5;28mself\u001b[39m\u001b[38;5;241m.\u001b[39m_extract_links()\n",
      "\u001b[0;31mTypeError\u001b[0m: collections() takes 1 positional argument but 2 were given"
     ]
    }
   ],
   "source": [
    "zot.collections(collection_key)"
   ]
  }
 ],
 "metadata": {
  "kernelspec": {
   "display_name": "Python 3 (ipykernel)",
   "language": "python",
   "name": "python3"
  },
  "language_info": {
   "codemirror_mode": {
    "name": "ipython",
    "version": 3
   },
   "file_extension": ".py",
   "mimetype": "text/x-python",
   "name": "python",
   "nbconvert_exporter": "python",
   "pygments_lexer": "ipython3",
   "version": "3.9.13"
  }
 },
 "nbformat": 4,
 "nbformat_minor": 5
}
