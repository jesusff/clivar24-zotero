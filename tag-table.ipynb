{
 "cells": [
  {
   "cell_type": "code",
   "execution_count": 1,
   "id": "145c8d57-5556-4420-a540-1ff017fbc9d4",
   "metadata": {},
   "outputs": [],
   "source": [
    "import pandas as pd\n",
    "from pyzotero import zotero\n",
    "\n",
    "group_id = '5149914'\n",
    "api_key = 'ca9nfF3QebWRnCOu2yx39luQ'\n",
    "\n",
    "zot = zotero.Zotero(group_id, 'group', api_key)"
   ]
  },
  {
   "cell_type": "code",
   "execution_count": 11,
   "id": "ffbe9e9f-7e26-45b4-819a-b42da8ea8530",
   "metadata": {},
   "outputs": [
    {
     "name": "stdout",
     "output_type": "stream",
     "text": [
      "Her20: []\n",
      "Per17: []\n",
      "Squ/2: []\n",
      "Fal/2: []\n",
      "Cop21: ['#CORDEX/EUR-11', '#Extremes', '#PER/1981-2010', '#PER/2041-2070', '#PER/2071-2100', '#REG/Europe', '#SCEN/rcp26', '#SCEN/rcp85', '#SCEN/ssp585', '#SOUR/GCM', '#SOUR/RCM', '#VAR/huss', '#VAR/pr', '#VAR/rsds', '#VAR/tas', '#VAR/tasmax', '#VAR/tasmin']\n",
      "Her19: []\n",
      "Bar23: []\n",
      "Vau23: []\n",
      "Gut19: []\n",
      "Cas20: ['#CORDEX/EUR-11', '#Extremes', '#PER/1981-2010', '#PER/2071-2100', '#REG/Iberian Peninsula', '#SCEN/historical', '#SCEN/rcp85', '#SOUR/BA', '#SOUR/GCM', '#SOUR/RCM', '#VAR/pr', '#VAR/tas', '#VAR/tasmax', '#VAR/tasmin']\n",
      "Cab20: ['#PER/1980-2012', '#REG/Iberian Peninsula and Baleric Islands', '#SCEN/evaluation', '#SCEN/historical', '#SOUR/RCM', '#VAR/tas', '#VAR/tasmax', '#VAR/tasmin']\n",
      "de 21: ['#PER/1976-2005', '#PER/2070-2099', '#REG/Iberian Peninsula and Baleric Islands', '#SCEN/rcp45', '#SCEN/rcp85', '#SOUR/RCM', '#VAR/pr', '#VAR/tas', '#VAR/tasmax', '#VAR/tasmin']\n",
      "Ven23: ['#PER/1950-2020', '#PER/2011-2040', '#PER/2041-2070', '#PER/2071-2100', '#REG/Barcelona', '#REG/Iberian Peninsula and Baleric Islands', '#SCEN/rcp45', '#SCEN/rcp85', '#SOUR/RCM', '#Urban', '#VAR/psl', '#VAR/tasmax', '#VAR/zg500']\n",
      "Vau21: []\n",
      "De 23: ['#Extremes', '#REG/Global', '#SCEN/historical', '#SOUR/GCM', '#VAR/pr', '#VAR/tasmax', '#VAR/tasmin']\n",
      "Est22: ['#CORDEX/EUR-11', '#Mountain', '#PER/2021-2050', '#PER/2071-2100', '#REG/Sierra Nevada', '#SCEN/rcp85', '#VAR/pet', '#VAR/pr', '#VAR/tas']\n",
      "Bañ22: ['#CORDEX/EUR-44', '#PER/1975-2005', '#PER/2006-2040', '#PER/2041-2070', '#PER/2071-2100', '#REG/Europe', '#SCEN/historical', '#SCEN/rcp85', '#SOUR/ESD', '#SOUR/GCM', '#SOUR/RCM', '#VAR/pr', '#VAR/tas']\n",
      "Wan21: ['#PER/2016-2100', '#REG/Europe and North Atlantic', '#SCEN/rcp45', '#SCEN/rcp85', '#SCEN/ssp245', '#SCEN/ssp585', '#SOUR/GCM', '#VAR/tas', '#VAR/tasmax', '#VAR/tasmin']\n",
      "Die23: ['#REG/Iberian Peninsula', '#SCEN/GWL-slope', '#SCEN/historical', '#SOUR/GCM', '#SOUR/RCM', '#VAR/pr', '#VAR/sfcWind', '#VAR/tas']\n",
      "Amb20: ['#Extremes', '#Mountain', '#PER/1986-2005', '#PER/2023-2037', '#PER/2043-2057', '#PER/2063-2077', '#PER/2083-2097', '#REG/Pyrenees', '#SCEN/rcp45', '#SCEN/rcp60', '#SCEN/rcp85', '#SOUR/ESD', '#VAR/pr', '#VAR/tasmax', '#VAR/tasmin']\n",
      "Aba18: ['#Extremes', '#PER/2031-2060', '#REG/Continental Spain', '#SCEN/rcp45', '#SCEN/rcp60', '#SCEN/rcp85', '#SOUR/ESD', '#Stations', '#VAR/tasmax', '#VAR/tasmin']\n",
      "Día23: ['#CORDEX/EUR-11', '#Extremes', '#Mountain', '#PER/1971-2000', '#PER/2021-2050', '#REG/Iberian Peninsula and Baleric Islands', '#SCEN/rcp45', '#SCEN/rcp85', '#SOUR/RCM', '#VAR/tasmin']\n",
      "Car21: ['#PER/1995-2014', '#PER/2046-2065', '#PER/2081-2100', '#REG/Europe', '#SCEN/ssp585', '#SOUR/BA', '#SOUR/GCM', '#VAR/tas', '#VAR/tasmax', '#VAR/tasmin']\n",
      "Mol20: ['#CORDEX/EUR-11', '#CORDEX/EUR-44', '#Extremes', '#PER/1971-2000', '#PER/2071-2100', '#REG/Mediterranean', '#SCEN/rcp45', '#SCEN/rcp85', '#SOUR/GCM', '#SOUR/RCM', '#VAR/tas']\n",
      "Pér22: ['#Extremes', '#PER/1980-2009', '#PER/2030-2059', '#PER/2070-2099', '#REG/Canary Islands', '#SCEN/historical', '#SCEN/rcp45', '#SCEN/rcp85', '#SOUR/RCM', '#Stations', '#VAR/tas']\n",
      "Fer19: ['#CORDEX/EUR-11', '#CORDEX/EUR-44', '#CORDEX/MED-11', '#CORDEX/MED-44', '#PER/1971-2000', '#PER/2021-2050', '#REG/Continental Spain and Balearic Islands', '#SCEN/rcp26', '#SCEN/rcp60', '#SCEN/rcp85', '#SOUR/GCM', '#SOUR/RCM', '#VAR/pr', '#VAR/tas']\n",
      "Exp22: ['#Extremes', '#PER/1980-2009', '#PER/2030-2059', '#PER/2070-2099', '#REG/Canary Islands', '#SCEN/rcp45', '#SCEN/rcp85', '#SOUR/RCM', '#VAR/tasmax', '#VAR/tasmin']\n",
      "Soa23: ['#PER/1981-2010', '#PER/2015-2040', '#PER/2041-2070', '#PER/2071-2100', '#REG/Iberian Peninsula', '#SCEN/ssp126', '#SCEN/ssp245', '#SCEN/ssp370', '#SCEN/ssp585', '#SOUR/ESD', '#SOUR/GCM', '#VAR/pr', '#VAR/tas', '#VAR/tasmax', '#VAR/tasmin']\n",
      "Dri20: ['#CORDEX/MENA-44', '#Extremes', '#PER/1979-2005', '#REG/Mediterranean and North Africa', '#SCEN/evaluation', '#SCEN/historical', '#SCEN/rcp45', '#SCEN/rcp85', '#SOUR/RCM', '#VAR/pr', '#VAR/tas']\n",
      "Lor21: ['#CORDEX/EUR-11', '#Extremes', '#Mountain', '#PER/1971-2000', '#PER/2021-2050', '#REG/Iberian Peninsula', '#SCEN/historical', '#SCEN/rcp45', '#SCEN/rcp85', '#SOUR/RCM', '#VAR/tas', '#VAR/tasmax', '#VAR/tasmin']\n",
      "Gar20: ['#PER/1971-2005', '#PER/2031-2065', '#PER/2066-2100', '#REG/Iberian Peninsula', '#SCEN/historical', '#SCEN/rcp45', '#SCEN/rcp85', '#SOUR/RCM', '#VAR/tas']\n",
      "Cop21: ['#CORDEX/EUR-11', '#Extremes', '#PER/1995-2014', '#PER/2041-2060', '#PER/2080-2099', '#REG/Global', '#SCEN/rcp26', '#SCEN/rcp85', '#SCEN/ssp126', '#SCEN/ssp585', '#SOUR/GCM', '#SOUR/RCM', '#VAR/pr', '#VAR/tas', '#VAR/tasmax', '#VAR/tasmin']\n",
      "Cos22: ['#PER/1985-2050', '#PER/2021-2040', '#PER/2041-2080', '#PER/2081-2100', '#REG/Mediterranean', '#SCEN/historical', '#SCEN/rcp26', '#SCEN/rcp45', '#SCEN/rcp85', '#SCEN/ssp126', '#SCEN/ssp245', '#SCEN/ssp585', '#SOUR/GCM', '#VAR/pr', '#VAR/tas']\n",
      "De 23: []\n",
      "Her22: ['#PER/1900-2010', '#PER/1981-2010', '#PER/2015-2100', '#REG/Europe', '#SCEN/ssp585', '#SOUR/GCM', '#VAR/psl', '#VAR/tas']\n",
      "Car21: ['#CORDEX/EUR-11', '#Extremes', '#PER/1986-2005', '#PER/2046-2065', '#PER/2081-2100', '#REG/Iberian Peninsula', '#SCEN/rcp85', '#SOUR/BA', '#SOUR/RCM', '#VAR/tas', '#VAR/tasmax', '#VAR/tasmin']\n",
      "Lor22: ['#CORDEX/EUR-11', '#Extremes', '#PER/1971-2000', '#PER/2021-2050', '#REG/Continental Spain and Balearic Islands', '#SCEN/rcp45', '#SCEN/rcp85', '#VAR/tasmax', '#VAR/tasmin']\n"
     ]
    }
   ],
   "source": [
    "collection_key = 'T7N74W2T' # Temperature\n",
    "\n",
    "items = zot.collection_items(collection_key)\n",
    "\n",
    "for item in items:\n",
    "    if 'parentItem' in item['data']:\n",
    "        continue\n",
    "    creators = item['data']['creators']\n",
    "    for creator in creators:\n",
    "        if creator.get('name'):\n",
    "            first_author = creator['name']\n",
    "            break\n",
    "        elif creator.get('lastName'):\n",
    "            first_author = creator['lastName']\n",
    "            break\n",
    "    year = item['data']['date']\n",
    "    tags = item['data']['tags']\n",
    "    print(f\"{first_author[0:3]}{year[2:4]}: {[tag['tag'] for tag in tags if tag['tag'].startswith('#')]}\")    "
   ]
  },
  {
   "cell_type": "code",
   "execution_count": 6,
   "id": "ce5b816f-9644-4da0-820d-6dafbb5e9aee",
   "metadata": {},
   "outputs": [
    {
     "data": {
      "text/plain": [
       "{'key': 'IF65FB2Y',\n",
       " 'version': 1722,\n",
       " 'itemType': 'journalArticle',\n",
       " 'title': 'Evaluation of the EURO-CORDEX Regional Climate Models Over the Iberian Peninsula: Observational Uncertainty Analysis',\n",
       " 'creators': [{'creatorType': 'author',\n",
       "   'firstName': 'S.',\n",
       "   'lastName': 'Herrera'},\n",
       "  {'creatorType': 'author', 'firstName': 'P. M. M.', 'lastName': 'Soares'},\n",
       "  {'creatorType': 'author', 'firstName': 'R. M.', 'lastName': 'Cardoso'},\n",
       "  {'creatorType': 'author', 'firstName': 'J. M.', 'lastName': 'Gutiérrez'}],\n",
       " 'abstractNote': 'This work evaluates the daily precipitation and mean temperature of eight CORDEX-EUR11 ERA-Interim-driven simulations of EURO-CORDEX over the Iberian Peninsula (IP) for the period 1989–2008. To this aim, three observational data sets (Iberia01, E-OBS-v19e, and MESAN-0.11) were considered as reference and compared with the models by means of several indices reflecting the mean and extreme regimes over the IP. For precipitation the Lamb weather types were considered to identify synoptic conditions related with higher observational uncertainty. RCMs are able to reproduce the spatial pattern and the variability observed in the IP. However, there is a higher agreement between models and observations for mean temperature than for precipitation, decreasing when extremes are analyzed. For the observational uncertainty analysis, also extreme daily temperatures were considered to obtain a wider picture of this topic. A higher dependence on the observational data set has been found for precipitation than for temperature. This uncertainty is particularly significant when the 50-year return value is considered for which the observational uncertainty doubles the model uncertainty. Only the wet-day frequency presents values lower than 0.5 for all seasons, with most of the rest of values reflecting a similar contribution of both components to the uncertainty. In the case of temperatures, the main contribution of the observations has been found when the lower (MAE01) and upper (MAE99) extremes are considered, with values lower than 0.5. For precipitation the observational uncertainty increases when synoptic patterns affecting the Mediterranean Basin are considered, reflecting the difficulty to properly capture the Mediterranean precipitation regimes.',\n",
       " 'publicationTitle': 'Journal of Geophysical Research: Atmospheres',\n",
       " 'volume': '125',\n",
       " 'issue': '12',\n",
       " 'pages': 'e2020JD032880',\n",
       " 'date': '2020',\n",
       " 'series': '',\n",
       " 'seriesTitle': '',\n",
       " 'seriesText': '',\n",
       " 'journalAbbreviation': '',\n",
       " 'language': 'en',\n",
       " 'DOI': '10.1029/2020JD032880',\n",
       " 'ISSN': '2169-8996',\n",
       " 'shortTitle': 'Evaluation of the EURO-CORDEX Regional Climate Models Over the Iberian Peninsula',\n",
       " 'url': 'https://onlinelibrary.wiley.com/doi/abs/10.1029/2020JD032880',\n",
       " 'accessDate': '2023-11-02T17:47:16Z',\n",
       " 'archive': '',\n",
       " 'archiveLocation': '',\n",
       " 'libraryCatalog': 'Wiley Online Library',\n",
       " 'callNumber': '',\n",
       " 'rights': '©2020. American Geophysical Union. All Rights Reserved.',\n",
       " 'extra': '_eprint: https://onlinelibrary.wiley.com/doi/pdf/10.1029/2020JD032880',\n",
       " 'tags': [{'tag': 'CORDEX', 'type': 1},\n",
       "  {'tag': 'Iberia01', 'type': 1},\n",
       "  {'tag': 'ensemble', 'type': 1},\n",
       "  {'tag': 'extremes', 'type': 1},\n",
       "  {'tag': 'observational uncertainty', 'type': 1},\n",
       "  {'tag': 'regional climate models', 'type': 1}],\n",
       " 'collections': ['B4JY8RHB', 'T7N74W2T'],\n",
       " 'relations': {},\n",
       " 'dateAdded': '2023-11-02T17:47:16Z',\n",
       " 'dateModified': '2023-11-02T17:47:16Z'}"
      ]
     },
     "execution_count": 6,
     "metadata": {},
     "output_type": "execute_result"
    }
   ],
   "source": [
    "item['data']"
   ]
  }
 ],
 "metadata": {
  "kernelspec": {
   "display_name": "Python 3 (ipykernel)",
   "language": "python",
   "name": "python3"
  },
  "language_info": {
   "codemirror_mode": {
    "name": "ipython",
    "version": 3
   },
   "file_extension": ".py",
   "mimetype": "text/x-python",
   "name": "python",
   "nbconvert_exporter": "python",
   "pygments_lexer": "ipython3",
   "version": "3.9.13"
  }
 },
 "nbformat": 4,
 "nbformat_minor": 5
}
